{
 "cells": [
  {
   "cell_type": "markdown",
   "metadata": {},
   "source": [
    "# Homework 1: Problems\n",
    "### PHYS T480/580, Fall 2018\n",
    "https://github.com/gtrichards/PHYS_T480_F18/\n",
    "\n",
    "\n",
    "## Problem 1\n",
    "\n",
    "Practice your git and github skills by submitting this homework via github:\n",
    "\n",
    "* Clone the class github repository to your computer, the one at https://github.com/gtrichards/PHYS_T480_F18/  (should already have done this).\n",
    "* Click the Github Classroom link you received via the mailing list. This will create a private github repository through which you'll be submitting your homeworks. Clone that repository to your computer.\n",
    "* Copy this notebook from the class github repository to your private homework submission repository. IMPORTANT: rename it to `<filename>-FirstLast.ipynb` once you copy it, where `<filename>` is the existing filename and `FirstLast` are your first and last name. Example: `PHYST480-F18-HW1-GordonRichards.ipynb`.\n",
    "* Solve problems #2, #3, and #4 by filling in the missing cells in the copied notebook.\n",
    "* Commit the notebook to your repository, and `git push` it upstream.\n",
    "\n",
    "\n",
    "## Problem 2\n",
    "Generate a sample of 10,000 data values drawn from N($\\mu$=1.0, $\\sigma$=0.2) and\n",
    "draw a pretty histogram, with the bin size determined using the Freedman-Diaconis\n",
    "rule. Overplot the true distribution. \n",
    "\n",
    "## Problem 3\n",
    "Repeat the problem 2, but now add to the Gaussian sample (concatenate arrays with `np.concatenate()`) \n",
    "another sample of 10,000 data values drawn from a `cauchy` distribution with\n",
    "$\\mu=2.0$ and $\\gamma=0.5$. Do it twice: once with the bin size determined \n",
    "using the Freedman-Diaconis rule and once using the Scott's rule. Comment. \n",
    "\n",
    "\n",
    "## Problem 4\n",
    "Follow the example from the Central Limit Theorem cells in BasicStats2.ipynb and simulate the distribution of 1,000,000 $\\mathscr{N}(0,1)$ draws of $\\chi^2$ for `N=2` and `N=5`.  Overplot the theoretical pdf (it will help to use `scipy.special.gamma()`)."
   ]
  },
  {
   "cell_type": "markdown",
   "metadata": {},
   "source": [
    "### Some useful definitions and functions"
   ]
  },
  {
   "cell_type": "code",
   "execution_count": 2,
   "metadata": {},
   "outputs": [],
   "source": [
    "import numpy as np\n",
    "from matplotlib import pyplot as plt\n",
    "from scipy import optimize\n",
    "from scipy.stats import cauchy, norm\n",
    "from astroML.plotting import setup_text_plots\n",
    "from astroML.stats import sigmaG\n",
    "from astroML.plotting import hist as fancyhist\n",
    "setup_text_plots(fontsize=14, usetex=False)\n",
    "\n",
    "%matplotlib inline\n",
    "\n",
    "np.random.seed(0)"
   ]
  },
  {
   "cell_type": "markdown",
   "metadata": {},
   "source": [
    "This astroML function adjusts matplotlib settings for a uniform feel in the \n",
    "textbook. Note that with `usetex=True`, fonts are rendered with $\\LaTeX$. This \n",
    "may result in an error if $\\LaTeX$ is not installed on your system.  In that \n",
    "case, you can set usetex to `False`."
   ]
  },
  {
   "cell_type": "markdown",
   "metadata": {},
   "source": [
    "## Nicholas O'Brien\n",
    "worked with Eric Teunissen and Lucas Peterson"
   ]
  },
  {
   "cell_type": "markdown",
   "metadata": {},
   "source": [
    "## Problem 2"
   ]
  },
  {
   "cell_type": "code",
   "execution_count": 3,
   "metadata": {},
   "outputs": [
    {
     "name": "stdout",
     "output_type": "stream",
     "text": [
      "\n"
     ]
    },
    {
     "data": {
      "image/png": "[encoded data removed]",
      "text/plain": [
       "<Figure size 432x288 with 1 Axes>"
      ]
     },
     "metadata": {},
     "output_type": "display_data"
    }
   ],
   "source": [
    "N     = 10000\n",
    "mu    = 1.0\n",
    "sigma = 0.2\n",
    "\n",
    "#data  = np.random.normal(loc=mu,scale=sigma,size=N)\n",
    "#data = norm(mu,sigma).rvs(N)\n",
    "data = norm.rvs(loc = mu,scale = sigma, size = N)\n",
    "\n",
    "q25,q75 = np.percentile(data,[25,75])\n",
    "sigmaG  = 0.7413 * (q75-q25)\n",
    "binsize = 2.7*sigmaG / (N**(1./3.))\n",
    "bins    = np.append(np.arange(start=np.min(np.sort(data)),stop=np.max(np.sort(data)),\n",
    "                              step=binsize),np.max(np.sort(data)))\n",
    "\n",
    "true = norm(mu,sigma).pdf(data)\n",
    "\n",
    "\n",
    "plt.hist(data,bins=bins,histtype = 'step',density = True)\n",
    "plt.hist(true,bins=bins,histtype = 'step',density = True)\n",
    "print()\n",
    "\n"
   ]
  },
  {
   "cell_type": "markdown",
   "metadata": {},
   "source": [
    "## Problem 3"
   ]
  },
  {
   "cell_type": "code",
   "execution_count": 4,
   "metadata": {},
   "outputs": [
    {
     "name": "stdout",
     "output_type": "stream",
     "text": [
      "Freedman Binsize = 0.05005272385425116\n"
     ]
    },
    {
     "data": {
      "image/png": "[encoded data removed]",
      "text/plain": [
       "<Figure size 432x288 with 1 Axes>"
      ]
     },
     "metadata": {},
     "output_type": "display_data"
    }
   ],
   "source": [
    "mu2 = 2.0\n",
    "gamma = 0.5\n",
    "\n",
    "dataCauchy = cauchy.rvs(loc = mu2,scale = gamma, size = N)\n",
    "data3 = np.concatenate((data,dataCauchy))\n",
    "\n",
    "q25,q75 = np.percentile(data3,[25,75])\n",
    "sigmaG  = 0.7413 * (q75-q25)\n",
    "\n",
    "binsizeFreed = 2.7*sigmaG / (2*N**(1./3.))\n",
    "binsFreed    = np.append(np.arange(start=np.min(np.sort(data3)),stop=np.max(np.sort(data3)),\n",
    "                              step=binsizeFreed),np.max(np.sort(data3)))\n",
    "\n",
    "binsizeScott = 3.5 * gamma / (2*N**(1./3.))\n",
    "binsScott    = np.append(np.arange(start=np.min(np.sort(data3)),stop=np.max(np.sort(data3)),\n",
    "                              step=binsizeScott),np.max(np.sort(data3)))\n",
    "\n",
    "\n",
    "truecauchy = cauchy(mu2,gamma).pdf(data3)\n",
    "\n",
    "plt.hist(data3,bins=binsFreed,histtype = 'step',density = True)\n",
    "plt.hist(truecauchy,bins=binsFreed,histtype = 'step',density = True)\n",
    "print(\"Freedman Binsize = \" + str(binsizeFreed))\n"
   ]
  },
  {
   "cell_type": "code",
   "execution_count": 5,
   "metadata": {},
   "outputs": [
    {
     "name": "stdout",
     "output_type": "stream",
     "text": [
      "Scott Binsize = 0.040613902294111826\n",
      "\n"
     ]
    },
    {
     "data": {
      "image/png": "[encoded data removed]",
      "text/plain": [
       "<Figure size 432x288 with 1 Axes>"
      ]
     },
     "metadata": {},
     "output_type": "display_data"
    }
   ],
   "source": [
    "plt.hist(data3,bins=binsScott,histtype = 'step',density = True)\n",
    "plt.hist(truecauchy,bins=binsScott,histtype = 'step',density = True)\n",
    "print(\"Scott Binsize = \" + str(binsizeScott))\n",
    "print()"
   ]
  },
  {
   "cell_type": "markdown",
   "metadata": {},
   "source": [
    "## Problem 4"
   ]
  },
  {
   "cell_type": "code",
   "execution_count": 6,
   "metadata": {},
   "outputs": [
    {
     "data": {
      "text/plain": [
       "[<matplotlib.lines.Line2D at 0x7fa21eab2470>]"
      ]
     },
     "execution_count": 6,
     "metadata": {},
     "output_type": "execute_result"
    },
    {
     "data": {
      "image/png": "[encoded data removed]",
      "text/plain": [
       "<Figure size 432x288 with 1 Axes>"
      ]
     },
     "metadata": {},
     "output_type": "display_data"
    }
   ],
   "source": [
    "from scipy.stats import chi2\n",
    "\n",
    "data4 = norm.rvs(loc = 0,scale = 1,size = 1000000)\n",
    "\n",
    "\n",
    "dist5 = chi2(5)\n",
    "r5 = dist5.rvs(1000000)\n",
    "dist2 = chi2(2)\n",
    "r2 = dist2.rvs(1000000)\n",
    "\n",
    "plt.plot(np.sort(r2),dist2.pdf(np.sort(r2)))\n",
    "plt.plot(np.sort(r5),dist5.pdf(np.sort(r5)))\n",
    "\n",
    "\n",
    "#plt.hist(data4,bins=100,histtype=\"step\",density=True)"
   ]
  },
  {
   "cell_type": "code",
   "execution_count": null,
   "metadata": {},
   "outputs": [],
   "source": []
  }
 ],
 "metadata": {
  "anaconda-cloud": {},
  "kernelspec": {
   "display_name": "Python 3",
   "language": "python",
   "name": "python3"
  },
  "language_info": {
   "codemirror_mode": {
    "name": "ipython",
    "version": 3
   },
   "file_extension": ".py",
   "mimetype": "text/x-python",
   "name": "python",
   "nbconvert_exporter": "python",
   "pygments_lexer": "ipython3",
   "version": "3.6.5"
  }
 },
 "nbformat": 4,
 "nbformat_minor": 2
}
